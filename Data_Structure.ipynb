{
  "nbformat": 4,
  "nbformat_minor": 0,
  "metadata": {
    "colab": {
      "provenance": []
    },
    "kernelspec": {
      "name": "python3",
      "display_name": "Python 3"
    },
    "language_info": {
      "name": "python"
    }
  },
  "cells": [
    {
      "cell_type": "markdown",
      "source": [
        "#What are data structures, and why are they important?\n",
        "   - Data structures are specialized formats for organizing, storing, and accessing collections of data. They provide efficient ways to manage information based on its characteristics and intended use.\n",
        "# Explain the difference between mutable and immutable data types with examples.\n",
        "   - The difference between mutable and immutable data types lies in whether or not their content can be changed after they are created, Objects whose values can be changed in place after creation are mutable objects and Objects whose values cannot be changed after creation are immutable objects.\n",
        "# What are the main differences between lists and tuples in Python?\n",
        "   - Main Differences Between Lists and Tuples in Python\n",
        "Mutability:\n",
        "list is mutable and tuple is immutable\n",
        "Syntax:\n",
        "list uses square brackets [] and tuple uses parentheses ().\n",
        "Performance:\n",
        "tuple is faster and uses less memory and list is slower, with more memory overhead.\n",
        "# Describe how dictionaries store data?\n",
        "   - Dictionaries store data as key-value pairs using a special data structure called a hash table.\n",
        "#Why might you use a set instead of a list in Python?\n",
        "   - You might use a set instead of a list in Python when you need unique elements and fast membership testing.\n",
        "#What is a string in Python, and how is it different from a list?\n",
        "   - A string in Python is a sequence of characters enclosed in single, double, or triple quotes.A string is a sequence of characters and is immutable while in other hand a list is a sequence of elements (any type) and is mutable and Use a string for text, and a list for collections of items that may change.\n",
        "# How do tuples ensure data integrity in Python?\n",
        "   - Tuples help ensure data integrity by being immutable.\n",
        "#What is a hash table, and how does it relate to dictionaries in Python?\n",
        "   - A hash table is a data structure that stores key-value pairs and allows for fast access to values using keys.Python’s dict (dictionary) is built on top of a hash table.  \n",
        "#Can lists contain different data types in Python?\n",
        "   - Yes, lists in Python can contain different data types. Python lists are heterogeneous, meaning they can store items of various types like integers, strings, floats, booleans, or even other lists or objects.\n",
        "#Explain why strings are immutable in Python?\n",
        "   - In Python, strings are immutable, meaning you cannot change their content once they are created. Any operation that seems to modify a string actually creates a new string.\n",
        "#What advantages do dictionaries offer over lists for certain tasks?\n",
        "   - Dictionaries offer several advantages over lists for tasks that involve key-based data lookup, organization, and performance, Avoids Duplicate Keys.\n",
        "# Describe a scenario where using a tuple would be preferable over a list?\n",
        "   - A tuple is preferable over a list when you need to store a fixed, unchangeable group of related values especially when the data should remain constant and be safe from modification, eg.:- location\n",
        "# How do sets handle duplicate values in Python?\n",
        "   - In Python, sets automatically remove duplicate values. They are designed to store only unique elements.\n",
        "#How does the “in” keyword work differently for lists and dictionaries?\n",
        "   - in with Lists checks if a value exists among the elements of the list while in with Dictionaries checks if a key exists, not the value.\n",
        "# Can you modify the elements of a tuple? Explain why or why not?\n",
        "   - No, you cannot modify the elements of a tuple in Python because they are immutable objects.\n",
        "# What is a nested dictionary, and give an example of its use case?\n",
        "  - A nested dictionary is a dictionary inside another dictionary. It's used to represent complex, hierarchical, or structured data, where each key maps to another dictionary as its value.\n",
        "#Describe the time complexity of accessing elements in a dictionary?\n",
        "   - Accessing an element in a Python dictionary using a key has an average-case time complexity of O(1) — which means it’s very fast, regardless of the dictionary’s size.\n",
        "# In what situations are lists preferred over dictionaries?   \n",
        "   - You should use a list instead of a dictionary when you need to work with ordered sequences of data and don’t need key-value pairs.\n",
        "# Why are dictionaries considered unordered, and how does that affect data retrieval?\n",
        "   - Dictionaries are still considered unordered in spirit because access is based on keys, not position. If you need reliable index-based access, use a list or OrderedDic.\n",
        "# Explain the difference between a list and a dictionary in terms of data retrieval.\n",
        "   - Lists are accessed by position/index and maintain their order but dictionaries are accessed by key and offer fast lookups using hashing, but their structure is based on key-value pairs.                 \n",
        "\n",
        "   \n",
        "\n",
        "               \n",
        "\n",
        "\n"
      ],
      "metadata": {
        "id": "-Mo30ClOCmFa"
      }
    },
    {
      "cell_type": "code",
      "source": [
        "# Write a code to create a string with your name and print it.\n",
        "name = \"Aditya\"\n",
        "print(name)"
      ],
      "metadata": {
        "colab": {
          "base_uri": "https://localhost:8080/"
        },
        "id": "retbZDqmbDLB",
        "outputId": "1098a7a2-4cf1-487e-ce41-9e557e6a4ab9"
      },
      "execution_count": 1,
      "outputs": [
        {
          "output_type": "stream",
          "name": "stdout",
          "text": [
            "Aditya\n"
          ]
        }
      ]
    },
    {
      "cell_type": "code",
      "source": [
        "#Write a code to find the length of the string \"Hello World\"\n",
        "string = \"Hello World\"\n",
        "print(len(string))"
      ],
      "metadata": {
        "colab": {
          "base_uri": "https://localhost:8080/"
        },
        "id": "c88fFZFoblt4",
        "outputId": "b71eb85e-8abc-4642-83d2-010a6aa2ebb4"
      },
      "execution_count": 2,
      "outputs": [
        {
          "output_type": "stream",
          "name": "stdout",
          "text": [
            "11\n"
          ]
        }
      ]
    },
    {
      "cell_type": "code",
      "source": [
        "#Write a code to slice the first 3 characters from the string \"Python Programming\"\n",
        "string = \"Python Programming\"\n",
        "print(string[:3])"
      ],
      "metadata": {
        "colab": {
          "base_uri": "https://localhost:8080/"
        },
        "id": "8eOzKYl8cHM8",
        "outputId": "06249119-d3fd-4d3a-b845-65e9a55a8094"
      },
      "execution_count": 3,
      "outputs": [
        {
          "output_type": "stream",
          "name": "stdout",
          "text": [
            "Pyt\n"
          ]
        }
      ]
    },
    {
      "cell_type": "code",
      "source": [
        "#Write a code to convert the string \"hello\" to uppercase\n",
        "string = \"hello\"\n",
        "print(string.upper())"
      ],
      "metadata": {
        "colab": {
          "base_uri": "https://localhost:8080/"
        },
        "id": "nJ6yxfhZcWwn",
        "outputId": "c6b4ac5f-40ac-43fa-f66d-655524506c6c"
      },
      "execution_count": 4,
      "outputs": [
        {
          "output_type": "stream",
          "name": "stdout",
          "text": [
            "HELLO\n"
          ]
        }
      ]
    },
    {
      "cell_type": "code",
      "source": [
        "# Write a code to replace the word \"apple\" with \"orange\" in the string \"I like apple\"\n",
        "string = \"I like apple\"\n",
        "print(string.replace(\"apple\", \"orange\"))"
      ],
      "metadata": {
        "colab": {
          "base_uri": "https://localhost:8080/"
        },
        "id": "iSSWTvhZcfRt",
        "outputId": "822265e6-181c-4731-d04a-1d5854e702c9"
      },
      "execution_count": 5,
      "outputs": [
        {
          "output_type": "stream",
          "name": "stdout",
          "text": [
            "I like orange\n"
          ]
        }
      ]
    },
    {
      "cell_type": "code",
      "source": [
        "# Write a code to create a list with numbers 1 to 5 and print it\n",
        "list = [1, 2, 3, 4, 5]\n",
        "print(list)\n"
      ],
      "metadata": {
        "colab": {
          "base_uri": "https://localhost:8080/"
        },
        "id": "IC8PE-SOcq59",
        "outputId": "8fbccd91-2db8-4b81-880b-a404bfb54569"
      },
      "execution_count": 6,
      "outputs": [
        {
          "output_type": "stream",
          "name": "stdout",
          "text": [
            "[1, 2, 3, 4, 5]\n"
          ]
        }
      ]
    },
    {
      "cell_type": "code",
      "source": [
        "#Write a code to append the number 10 to the list [1, 2, 3, 4]\n",
        "list = [1, 2, 3, 4]\n",
        "list.append(10)\n",
        "print(list)"
      ],
      "metadata": {
        "colab": {
          "base_uri": "https://localhost:8080/"
        },
        "id": "Don2YA2gc0xc",
        "outputId": "4d2724f7-a30d-4191-d628-23a08f3f26a8"
      },
      "execution_count": 7,
      "outputs": [
        {
          "output_type": "stream",
          "name": "stdout",
          "text": [
            "[1, 2, 3, 4, 10]\n"
          ]
        }
      ]
    },
    {
      "cell_type": "code",
      "source": [
        "#Write a code to remove the number 3 from the list [1, 2, 3, 4, 5]\n",
        "list = [1,2,3,4,5]\n",
        "list.remove(3)\n",
        "print(list)"
      ],
      "metadata": {
        "colab": {
          "base_uri": "https://localhost:8080/"
        },
        "id": "rrL3oGE6c74z",
        "outputId": "78c026be-b9d1-4a0a-c723-68fce7eef1b4"
      },
      "execution_count": 9,
      "outputs": [
        {
          "output_type": "stream",
          "name": "stdout",
          "text": [
            "[1, 2, 4, 5]\n"
          ]
        }
      ]
    },
    {
      "cell_type": "code",
      "source": [
        "#Write a code to access the second element in the list ['a', 'b', 'c', 'd']\n",
        "list = ['a', 'b', 'c', 'd']\n",
        "print(list[1])"
      ],
      "metadata": {
        "colab": {
          "base_uri": "https://localhost:8080/"
        },
        "id": "CcMPA2QfdaZC",
        "outputId": "9df9faa9-bae6-49cd-829e-7663dd92c5ec"
      },
      "execution_count": 10,
      "outputs": [
        {
          "output_type": "stream",
          "name": "stdout",
          "text": [
            "b\n"
          ]
        }
      ]
    },
    {
      "cell_type": "code",
      "source": [
        "#Write a code to reverse the list [10, 20, 30, 40, 50].\n",
        "list = [10, 20, 30, 40, 50]\n",
        "print(list[::-1])"
      ],
      "metadata": {
        "colab": {
          "base_uri": "https://localhost:8080/"
        },
        "id": "2Qgkxd0Sdr8M",
        "outputId": "1dd3c0a0-fa4e-4622-dc8c-150aec4b04b0"
      },
      "execution_count": 14,
      "outputs": [
        {
          "output_type": "stream",
          "name": "stdout",
          "text": [
            "[50, 40, 30, 20, 10]\n"
          ]
        }
      ]
    },
    {
      "cell_type": "code",
      "source": [
        "#Write a code to create a tuple with the elements 100, 200, 300 and print it.\n",
        "tuple = (100,200,300)\n",
        "print(tuple)"
      ],
      "metadata": {
        "colab": {
          "base_uri": "https://localhost:8080/"
        },
        "id": "l1utmiMreN3p",
        "outputId": "3262d3a4-607d-4f8a-8267-fde95c3c1d0c"
      },
      "execution_count": 15,
      "outputs": [
        {
          "output_type": "stream",
          "name": "stdout",
          "text": [
            "(100, 200, 300)\n"
          ]
        }
      ]
    },
    {
      "cell_type": "code",
      "source": [
        "# Write a code to access the second-to-last element of the tuple ('red', 'green', 'blue', 'yellow')\n",
        "tuple = ('red', 'green', 'blue', 'yellow')\n",
        "print(tuple[-2])"
      ],
      "metadata": {
        "colab": {
          "base_uri": "https://localhost:8080/"
        },
        "id": "H28ANig8fLOF",
        "outputId": "ddba6523-f1b6-4f17-fa40-e973b3658ff0"
      },
      "execution_count": 17,
      "outputs": [
        {
          "output_type": "stream",
          "name": "stdout",
          "text": [
            "blue\n"
          ]
        }
      ]
    },
    {
      "cell_type": "code",
      "source": [
        "#Write a code to find the minimum number in the tuple (10, 20, 5, 15).\n",
        "tuple = (10, 20, 5, 15)\n",
        "print(min(tuple))\n"
      ],
      "metadata": {
        "id": "-wWSa-LFfPLN"
      },
      "execution_count": null,
      "outputs": []
    },
    {
      "cell_type": "code",
      "source": [
        "# Write a code to find the index of the element \"cat\" in the tuple ('dog', 'cat', 'rabbit').\n",
        "tuple = ('dog', 'cat', 'rabbit')\n",
        "tuple.index('cat')"
      ],
      "metadata": {
        "colab": {
          "base_uri": "https://localhost:8080/"
        },
        "id": "osTSKLVwnzsu",
        "outputId": "6bcf9244-30f7-4e77-d2b3-59602c4c68eb"
      },
      "execution_count": 25,
      "outputs": [
        {
          "output_type": "execute_result",
          "data": {
            "text/plain": [
              "1"
            ]
          },
          "metadata": {},
          "execution_count": 25
        }
      ]
    },
    {
      "cell_type": "code",
      "source": [
        "# Write a code to create a tuple containing three different fruits and check if \"kiwi\" is in it\n",
        "tuple = (\"apple\", \"banana\", \"cherry\")\n",
        "print(\"kiwi\" in tuple)\n"
      ],
      "metadata": {
        "colab": {
          "base_uri": "https://localhost:8080/"
        },
        "id": "l_HrYyevrO35",
        "outputId": "aacbaa89-b7e1-4f67-e14c-b50f4b18aca4"
      },
      "execution_count": 26,
      "outputs": [
        {
          "output_type": "stream",
          "name": "stdout",
          "text": [
            "False\n"
          ]
        }
      ]
    },
    {
      "cell_type": "code",
      "source": [
        "# Write a code to create a set with the elements 'a', 'b', 'c' and print it.\n",
        "my_set = {'a', 'b', 'c'}\n",
        "print(my_set)"
      ],
      "metadata": {
        "colab": {
          "base_uri": "https://localhost:8080/"
        },
        "id": "9I8vJc1hsfnq",
        "outputId": "18614234-53ed-473d-825b-17944a21f6bf"
      },
      "execution_count": 27,
      "outputs": [
        {
          "output_type": "stream",
          "name": "stdout",
          "text": [
            "{'a', 'c', 'b'}\n"
          ]
        }
      ]
    },
    {
      "cell_type": "code",
      "source": [
        "# Write a code to clear all elements from the set {1, 2, 3, 4, 5}.\n",
        "my_set = {1, 2, 3, 4, 5}\n",
        "my_set.clear()\n",
        "print(my_set)\n"
      ],
      "metadata": {
        "colab": {
          "base_uri": "https://localhost:8080/"
        },
        "id": "mm3vJ1u9s0z8",
        "outputId": "4f380ac6-cb77-490f-a425-7a6e5b9e709d"
      },
      "execution_count": 28,
      "outputs": [
        {
          "output_type": "stream",
          "name": "stdout",
          "text": [
            "set()\n"
          ]
        }
      ]
    },
    {
      "cell_type": "code",
      "source": [
        "# Write a code to remove the element 4 from the set {1, 2, 3, 4}.\n",
        "my_set = {1, 2, 3, 4}\n",
        "my_set.remove(4)\n",
        "print(my_set)\n",
        "#"
      ],
      "metadata": {
        "colab": {
          "base_uri": "https://localhost:8080/"
        },
        "id": "TtGhlrcZtNop",
        "outputId": "d22a6f07-a030-487e-f4bd-6ba00a73c640"
      },
      "execution_count": 32,
      "outputs": [
        {
          "output_type": "stream",
          "name": "stdout",
          "text": [
            "{1, 2, 3}\n"
          ]
        }
      ]
    },
    {
      "cell_type": "code",
      "source": [
        "# Write a code to find the union of two sets {1, 2, 3} and {3, 4, 5}.\n",
        "set1 = {1, 2, 3}\n",
        "set2 = {3, 4, 5}\n",
        "\n",
        "union_set = set1.union(set2)\n",
        "print(\"Union:\", union_set)"
      ],
      "metadata": {
        "colab": {
          "base_uri": "https://localhost:8080/"
        },
        "id": "j_jbsv93tafe",
        "outputId": "77ccce59-2e67-4819-fdae-bf0f6ee376f3"
      },
      "execution_count": 37,
      "outputs": [
        {
          "output_type": "stream",
          "name": "stdout",
          "text": [
            "Union: {1, 2, 3, 4, 5}\n"
          ]
        }
      ]
    },
    {
      "cell_type": "code",
      "source": [
        " #Write a code to find the intersection of two sets {1, 2, 3} and {2, 3, 4}.\n",
        "set1 = {1, 2, 3}\n",
        "set2 = {3, 4, 5}\n",
        "intersection_set = set1.intersection(set2)\n",
        "print(\"Intersection:\", intersection_set)\n"
      ],
      "metadata": {
        "colab": {
          "base_uri": "https://localhost:8080/"
        },
        "id": "7TFk-ehMuTa8",
        "outputId": "70eaeb31-dcd9-4276-b4f8-0590fb6f00ab"
      },
      "execution_count": 38,
      "outputs": [
        {
          "output_type": "stream",
          "name": "stdout",
          "text": [
            "Intersection: {3}\n"
          ]
        }
      ]
    },
    {
      "cell_type": "code",
      "source": [
        " #Write a code to create a dictionary with the keys \"name\", \"age\", and \"city\", and print it.\n",
        "person = {\n",
        "    \"name\": \"Alice\",\n",
        "    \"age\": 30,\n",
        "    \"city\": \"New York\"\n",
        "}\n",
        "\n",
        "print(person)"
      ],
      "metadata": {
        "colab": {
          "base_uri": "https://localhost:8080/"
        },
        "id": "FYCnlxuGuwQ3",
        "outputId": "f2d1b5b5-db83-4c8e-d706-2ec1f713392f"
      },
      "execution_count": 39,
      "outputs": [
        {
          "output_type": "stream",
          "name": "stdout",
          "text": [
            "{'name': 'Alice', 'age': 30, 'city': 'New York'}\n"
          ]
        }
      ]
    },
    {
      "cell_type": "code",
      "source": [
        "# Write a code to add a new key-value pair \"country\": \"USA\" to the dictionary {'name': 'John', 'age': 25}\n",
        "person = {'name': 'John', 'age': 25}\n",
        "person['country'] = 'USA'\n",
        "print(person)"
      ],
      "metadata": {
        "colab": {
          "base_uri": "https://localhost:8080/"
        },
        "id": "-3FWLXUtvMDq",
        "outputId": "19d3860c-b277-4d44-b9d1-42686c10c241"
      },
      "execution_count": 41,
      "outputs": [
        {
          "output_type": "stream",
          "name": "stdout",
          "text": [
            "{'name': 'John', 'age': 25, 'country': 'USA'}\n"
          ]
        }
      ]
    },
    {
      "cell_type": "code",
      "source": [
        "# Write a code to access the value associated with the key \"name\" in the dictionary {'name': 'Alice', 'age': 30}.\n",
        "person = {'name': 'Alice', 'age': 30}\n",
        "print(person['name'])\n"
      ],
      "metadata": {
        "colab": {
          "base_uri": "https://localhost:8080/"
        },
        "id": "D2nBYcTTvcuR",
        "outputId": "c0ed3806-46c2-4f42-eb38-f50bcb310c0a"
      },
      "execution_count": 42,
      "outputs": [
        {
          "output_type": "stream",
          "name": "stdout",
          "text": [
            "Alice\n"
          ]
        }
      ]
    },
    {
      "cell_type": "code",
      "source": [
        "# Write a code to remove the key \"age\" from the dictionary {'name': 'Bob', 'age': 22, 'city': 'New York'}.\n",
        "person = {'name': 'Bob', 'age': 22, 'city': 'New York'}\n",
        "del person['age']\n",
        "print(person)\n"
      ],
      "metadata": {
        "colab": {
          "base_uri": "https://localhost:8080/"
        },
        "id": "e6gl6xBSwBuL",
        "outputId": "f9ff3723-d838-4cb6-938f-19f3ea8392a5"
      },
      "execution_count": 43,
      "outputs": [
        {
          "output_type": "stream",
          "name": "stdout",
          "text": [
            "{'name': 'Bob', 'city': 'New York'}\n"
          ]
        }
      ]
    },
    {
      "cell_type": "code",
      "source": [
        "# Write a code to check if the key \"city\" exists in the dictionary {'name': 'Alice', 'city': 'Paris'}.\n",
        "person = {'name': 'Alice', 'city': 'Paris'}\n",
        "if 'city' in person:\n",
        "    print(\"City exists in the dictionary.\")\n",
        "else:\n",
        "    print(\"City does not exist in the dictionary.\")\n",
        "\n"
      ],
      "metadata": {
        "colab": {
          "base_uri": "https://localhost:8080/"
        },
        "id": "h-IbjfYkwiZ2",
        "outputId": "9a5b61bb-d957-486a-c3c7-955048be0024"
      },
      "execution_count": 44,
      "outputs": [
        {
          "output_type": "stream",
          "name": "stdout",
          "text": [
            "City exists in the dictionary.\n"
          ]
        }
      ]
    },
    {
      "cell_type": "code",
      "source": [
        " #Write a code to create a list, a tuple, and a dictionary, and print them all\n",
        " list = [1,2,3]\n",
        " tuple = (1,2,3)\n",
        " dictionary = {'name': 'aditya', 'age': 20}\n",
        " print(list)\n",
        " print(tuple)\n",
        " print(dictionary)"
      ],
      "metadata": {
        "colab": {
          "base_uri": "https://localhost:8080/"
        },
        "id": "Vi8TF3Vnw22j",
        "outputId": "f8c9ae42-9532-4fa3-b524-9df09e1a5944"
      },
      "execution_count": 49,
      "outputs": [
        {
          "output_type": "stream",
          "name": "stdout",
          "text": [
            "[1, 2, 3]\n",
            "(1, 2, 3)\n",
            "{'name': 'aditya', 'age': 20}\n"
          ]
        }
      ]
    },
    {
      "cell_type": "code",
      "source": [
        "#Write a code to create a list of 5 random numbers between 1 and 100, sort it in ascending order, and print the\n",
        "#result.(replaced)\n",
        "list = [9,27,96,72,51]\n",
        "list.sort()\n",
        "print(list)"
      ],
      "metadata": {
        "colab": {
          "base_uri": "https://localhost:8080/"
        },
        "id": "EU_Ub8MXxqjU",
        "outputId": "68c5c645-c149-4700-f9b0-695ae47a92f3"
      },
      "execution_count": 53,
      "outputs": [
        {
          "output_type": "stream",
          "name": "stdout",
          "text": [
            "[9, 27, 51, 72, 96]\n"
          ]
        }
      ]
    },
    {
      "cell_type": "code",
      "source": [
        "# Write a code to create a list with strings and print the element at the third index.\n",
        "list = [\"aditya\", \"aman\", \"shruti\", \"apple\", \"banana\"]\n",
        "print(list[3])\n"
      ],
      "metadata": {
        "colab": {
          "base_uri": "https://localhost:8080/"
        },
        "id": "jRqxq4oxyO0f",
        "outputId": "c44ba960-1bfe-48d2-bc38-3c7a2a70d81c"
      },
      "execution_count": 55,
      "outputs": [
        {
          "output_type": "stream",
          "name": "stdout",
          "text": [
            "apple\n"
          ]
        }
      ]
    },
    {
      "cell_type": "code",
      "source": [
        "# Write a code to combine two dictionaries into one and print the result\n",
        "dict1 = {'a': 1, 'b': 2}\n",
        "dict2 = {'c': 3, 'd': 4}\n",
        "dict1.update(dict2)\n",
        "print(dict1)\n"
      ],
      "metadata": {
        "colab": {
          "base_uri": "https://localhost:8080/"
        },
        "id": "Jw4C6VYFzH-Q",
        "outputId": "08e6d8f0-9957-414d-bf6b-ef74de7f206b"
      },
      "execution_count": 56,
      "outputs": [
        {
          "output_type": "stream",
          "name": "stdout",
          "text": [
            "{'a': 1, 'b': 2, 'c': 3, 'd': 4}\n"
          ]
        }
      ]
    },
    {
      "cell_type": "code",
      "source": [
        "#Write a code to convert a list of strings into a set.\n",
        "list = [\"aditya\", \"aman\", \"shruti\", \"apple\", \"banana\"]\n",
        "set = set(list)\n",
        "print(set)"
      ],
      "metadata": {
        "colab": {
          "base_uri": "https://localhost:8080/"
        },
        "id": "8o1cJw9fzXrm",
        "outputId": "d3a06f86-675a-4314-a9ab-931acaae3ae2"
      },
      "execution_count": 57,
      "outputs": [
        {
          "output_type": "stream",
          "name": "stdout",
          "text": [
            "{'apple', 'aman', 'shruti', 'aditya', 'banana'}\n"
          ]
        }
      ]
    },
    {
      "cell_type": "code",
      "source": [],
      "metadata": {
        "id": "s8L4MgLfzhEs"
      },
      "execution_count": null,
      "outputs": []
    }
  ]
}